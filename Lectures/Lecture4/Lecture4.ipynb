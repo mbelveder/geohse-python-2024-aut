{
 "cells": [
  {
   "cell_type": "markdown",
   "id": "2b913df9-1264-4ad6-9580-7add824fc4f9",
   "metadata": {},
   "source": [
    "# **Лекция 4: ввод и вывод в `python`**\n",
    "\n",
    "## **План лекции**\n",
    "\n",
    "- Обсуждение плана лекции\n",
    "- Разбор задач из второго домашнего задания\n",
    "- Форматирование строк: `f`-строки и `.format()`\n",
    "    - Вопросы?\n",
    "- Считывание файлов в `python`\n",
    "- Разные режимы считывания файлов\n",
    "    - Вопросы?\n",
    "- Кортежи (если успеем)\n",
    "- Разбор разных задач (сколько успеем)"
   ]
  },
  {
   "cell_type": "markdown",
   "id": "991b17ee",
   "metadata": {},
   "source": [
    "## Разбор задач с семинара\n",
    "\n",
    "Механик Зеленый прилетел на планету Железяку к роботам. Большинство роботов пишут цифры в бинарном коде, а механик Зеленый сходу их не понимает. Помогите написать программу, которая переведет бинарные числа в десятичные. Используйте только знания, полученные в рамках нашего курса. "
   ]
  },
  {
   "cell_type": "markdown",
   "id": "62e597ef",
   "metadata": {},
   "source": [
    "<p>\n",
    "<details>\n",
    "<summary> <u> Подсказка 1: </u> </summary>\n",
    "\n",
    "```python\n",
    "number = int(string) # функция для перевода строк в integer\n",
    "\n",
    "```\n",
    "\n",
    "</details>\n",
    "</p>\n"
   ]
  },
  {
   "cell_type": "markdown",
   "id": "7a273c7e",
   "metadata": {},
   "source": [
    "Как всегда разобьем задачу на подзадачи:\n",
    "\n",
    "<p>\n",
    "<details>\n",
    "<summary> <u> Вспоминаем как конвертировать числа из бинарной системы в десятичную </u> </summary>\n",
    "\n",
    "Берем цифры с конца числа, записанного в бинарной системе, и умножаем их на степени двойки. Последняя цифра будет умножена на 2$^0$, предпоследнее –– на 2$^1$ и так далее. Подробнее [здесь](https://ru.wikihow.com/%D0%BF%D0%B5%D1%80%D0%B5%D0%B2%D0%BE%D0%B4%D0%B8%D1%82%D1%8C-%D0%B8%D0%B7-%D0%B4%D0%B2%D0%BE%D0%B8%D1%87%D0%BD%D0%BE%D0%B9-%D1%81%D0%B8%D1%81%D1%82%D0%B5%D0%BC%D1%8B-%D0%B2-%D0%B4%D0%B5%D1%81%D1%8F%D1%82%D0%B8%D1%87%D0%BD%D1%83%D1%8E).\n",
    "\n",
    "</details>\n",
    "</p>\n",
    "\n",
    "<p>\n",
    "<details>\n",
    "<summary> <u> Возьмем произвольную цифру из строки, конвертируем ее в целочисленную (int) и умножим на двойку в какой-нибудь степени </u> </summary>\n",
    "\n",
    "```python\n",
    "sample_bin = '1100000011110'\n",
    "char = sample_bin[5]\n",
    "number = int(char)\n",
    "print(number*2**3)\n",
    "\n",
    "```\n",
    "</details>\n",
    "</p>\n",
    "\n",
    "<p>\n",
    "<details>\n",
    "<summary> <u> Разберемся как брать правильную цифру из строки и как умножать ее на правильную степень двойки </u> </summary>\n",
    "\n",
    "Нам нужно брать числа с конца, это можно сделать либо с помощью `sample_bin[len(sample_bin)-1]`, либо с помощью `sample_bin[-1]`. Если обозначить такой индекс за `i`, то степень, на которую мы можем умножать число, мы можем обозначить за `i-1`.\n",
    "    \n",
    "```python\n",
    "sample_bin = '1100000011110'\n",
    "i = 1\n",
    "char = sample_bin[-i]\n",
    "number = int(char)\n",
    "print(number*2**(i-1))\n",
    "\n",
    "```\n",
    "</details>\n",
    "</p>\n",
    "\n",
    "<p>\n",
    "<details>\n",
    "<summary> <u> Теперь повторим для всех элементов строки </u> </summary>\n",
    "\n",
    "Напишем цикл! Очевидно, что нужно менять `i` от `1`, но до какого числа? Длина нашей строки `len(sample_bin)`, начинаем мы с единицы, а значит нам нужно `len(sample_bin) + 1`:\n",
    "    \n",
    "```python\n",
    "sample_bin = '1100000011110'\n",
    "    \n",
    "for i in range(1, len(sample_bin) + 1):\n",
    "    char = sample_bin[-i]\n",
    "    number = int(char)\n",
    "    print(number*2**(i-1), char)\n",
    "```\n",
    "</details>\n",
    "</p>\n",
    "\n",
    "<p>\n",
    "<details>\n",
    "<summary> <u> Осталось сложить все элементы, что мы с вами уже не раз делали </u> </summary>\n",
    "    \n",
    "```python\n",
    "sample_bin = '1100000011110'\n",
    "dec_number = 0\n",
    "    \n",
    "for i in range(1, len(sample_bin) + 1):\n",
    "    char = sample_bin[-i]\n",
    "    number = int(char)\n",
    "    dec_number += number*2**(i-1)\n",
    "print(dec_number)\n",
    "```\n",
    "</details>\n",
    "</p>\n",
    "\n",
    "<p>\n",
    "<details>\n",
    "<summary> <u> Можем ли мы придумать слегка более элегантное решение? </u> </summary>\n",
    "\n",
    "В целом да. Мы не избавимся от цикла по индексам (нам нужен индекс/итерируемая переменная для подсчета степени), зато можем убрать неэлегантное перебирание с конца, если будем разворачивать строку на ходу. Это можно сделать с помощью среза `[::-1]`. Ну и остальные строчки можно немного сократить:\n",
    "    \n",
    "```python\n",
    "sample_bin = '1100000011110'\n",
    "dec_number = 0\n",
    "\n",
    "for i in range(len(sample_bin)):\n",
    "    number = int(sample_bin[::-1][i])\n",
    "    dec_number += number*2**(i)\n",
    "print(dec_number)\n",
    "```\n",
    "</details>\n",
    "</p>"
   ]
  },
  {
   "cell_type": "markdown",
   "id": "53be822e-6fba-4edf-adb9-0246cb397dc4",
   "metadata": {},
   "source": [
    "## **Более крутой способ форматировать строки**\n",
    "\n",
    "Вам не казалось, что складывание строк через\n",
    "``` python\n",
    "'Сегодня ' + str(degrees) + ' градусов по Цельсию' \n",
    "```\n",
    "выглядит немного громоздким? Это правда, и можно форматировать строки более элегантно сразу тремя разными способами.\n",
    "\n",
    "### `f`-строки\n",
    "\n",
    "Если добавить к строке до её начала `f`, то в неё можно вставлять числовые значения:"
   ]
  },
  {
   "cell_type": "code",
   "execution_count": 3,
   "id": "8f4d5e51-bf5a-4966-8eae-b73c555cb93f",
   "metadata": {},
   "outputs": [
    {
     "name": "stdout",
     "output_type": "stream",
     "text": [
      "Сегодня в Москве 24.2 градуса по Цельсию\n"
     ]
    }
   ],
   "source": [
    "degrees = 24.2\n",
    "message = f'Сегодня в Москве {degrees} градуса по Цельсию'\n",
    "\n",
    "print(message)"
   ]
  },
  {
   "cell_type": "markdown",
   "id": "2a064bba-2487-4ae0-9945-65c6a526fffe",
   "metadata": {},
   "source": [
    "<p>\n",
    "<details>\n",
    "<summary> ☝ ✨ <u> f-строки можно использовать для нахождения багов </u> </summary>\n",
    "\n",
    "Можно выводить строку сразу с выражением `=` в процессе, и наиболее всего такая форма удобна для нахождения багов в коде, так как позволяет подсвечивать сразу названия переменных:\n",
    "\n",
    "``` python\n",
    "name = 'SCP-173'\n",
    "count = 13\n",
    "object_class = 'Euclid'\n",
    "print(f'Объект {name=} класса {object_class=} нарушал условия содержания {count=} раз')\n",
    "```\n",
    "> `Объект name='SCP-173' класса object_class='Euclid' нарушал условия содержания count=13`\n",
    "</details>\n",
    "</p>"
   ]
  },
  {
   "cell_type": "markdown",
   "id": "06389f07-cde3-4483-9083-c4cf42bcb608",
   "metadata": {},
   "source": [
    "### Метод `.format()`\n",
    "\n",
    "Очень похожий способ, проще всего проиллюстрировать его примером:"
   ]
  },
  {
   "cell_type": "code",
   "execution_count": 57,
   "id": "da1c3cd9-998b-40f7-93a0-2140021ed4d6",
   "metadata": {},
   "outputs": [
    {
     "name": "stdout",
     "output_type": "stream",
     "text": [
      "Биба и Боба\n"
     ]
    }
   ],
   "source": [
    "print('{person1} и {person2}'.format(person1='Биба', person2='Боба'))"
   ]
  },
  {
   "cell_type": "markdown",
   "id": "f8a1b33c-c073-4511-92a3-b7829351cb0f",
   "metadata": {},
   "source": [
    "Большой разницы в этих способах нету, можно спокойно использовать оба."
   ]
  },
  {
   "cell_type": "markdown",
   "id": "e3b7c7c4-37cd-4a38-9a61-8fbca368ef76",
   "metadata": {},
   "source": [
    "### Через оператор `%`\n",
    "\n",
    "Раньше основным способом был:"
   ]
  },
  {
   "cell_type": "code",
   "execution_count": 4,
   "id": "7d65c038-d276-4cf8-8165-9ebc845ca0cf",
   "metadata": {},
   "outputs": [
    {
     "name": "stdout",
     "output_type": "stream",
     "text": [
      "Значения числа π примерно равно 3.142.\n"
     ]
    }
   ],
   "source": [
    "pi = 3.141592653589793 # и так далее\n",
    "\n",
    "print('Значения числа π примерно равно %5.3f.' % pi)"
   ]
  },
  {
   "cell_type": "markdown",
   "id": "36348142-c321-4f4a-bcad-f44c42e06ae8",
   "metadata": {},
   "source": [
    "Но сейчас его почти не используют, чтобы не путать с оператором остатка от деления, да и `f`-строки просто более читаемые."
   ]
  },
  {
   "cell_type": "markdown",
   "id": "1480cea3-a082-4b8e-9ee5-0d2781b1f9f5",
   "metadata": {},
   "source": [
    "<p>\n",
    "<details>\n",
    "<summary> ☝ ✨ <u> Что за 5.3f? </u> </summary>\n",
    "\n",
    "Это формативанный вывод (или ввод). Раньше, в низкоуровневых языках (`C` или `FORTRAN`) вывод мог быть только с указанием типа переменной (`f` - float) и длиной поля. Первое число до (5) означает полное количество знаков, которое будет занято выводом числа, а второе число (3) означает число выведенных знаков после запятой. \n",
    "\n",
    "Может показаться, что это уже очень устаревшая форма записи, однако иногда данные записаны именно в таком виде: они не разделяются запятыми или пробелами, а имеют фиксированную длину поля. Зато, зная форму записи, можно всегда легко прочитать данные и не ошибиться!\n",
    "\n",
    "</details>\n",
    "</p>"
   ]
  },
  {
   "cell_type": "markdown",
   "id": "61c0e588-de04-4bd8-93b4-bde7d41d5c4b",
   "metadata": {},
   "source": [
    "# **Работа с файлами в python**\n",
    "\n",
    "До этого мы хранили всю информацию в строчках кода. В реальности все данные всегда хранятся в файлах! Давайте разберем, как их считывать и что с ним делать.\n",
    "\n",
    "Простейший способ открытия текстового файла выглядит так: "
   ]
  },
  {
   "cell_type": "code",
   "execution_count": 5,
   "id": "37e1cdcc-3a31-41f5-9de4-eb39f3af8ff4",
   "metadata": {},
   "outputs": [
    {
     "name": "stdout",
     "output_type": "stream",
     "text": [
      "Moscow 55.7558 37.6178\n",
      "SaintPetersburg 59.9500 30.3167\n",
      "Novosibirsk 55.0333 82.9167\n",
      "Yekaterinburg 56.8356 60.6128\n",
      "NizhniyNovgorod 56.3269 44.0075\n",
      "Kazan 55.7964 49.1089\n",
      "Chelyabinsk 55.1500 61.4000\n",
      "Omsk 54.9667 73.3833\n",
      "Samara 53.2028 50.1408\n",
      "Rostov 47.2333 39.7000\n",
      "Ufa 54.7261 55.9475\n",
      "Krasnoyarsk 56.0089 92.8719\n",
      "Voronezh 51.6717 39.2106\n",
      "Perm 58.0139 56.2489\n",
      "Volgograd 48.7086 44.5147\n"
     ]
    }
   ],
   "source": [
    "f = open('data/russian_cities.txt')\n",
    "russian_cities = f.read()\n",
    "f.close()\n",
    "\n",
    "print(russian_cities) # данные с координатами Российских городов"
   ]
  },
  {
   "cell_type": "markdown",
   "id": "f2c7d6a0-9c01-4ce9-a57d-7042191742ae",
   "metadata": {},
   "source": [
    "Каждый раз, открывая файл, мы создаем специальную переменную *файлового потока*. После использования файла, эту переменную нужно закрыть, иначе могут возникнуть [разные неприятные последствия](https://stackoverflow.com/questions/25070854/why-should-i-close-files-in-python). Часть люди забывают закрывать файл, да и выглядит это не очень читаемо, поэтому была придумана следующая схема:"
   ]
  },
  {
   "cell_type": "code",
   "execution_count": 19,
   "id": "3b582e95-644c-45e3-a0d2-86a157ea90fe",
   "metadata": {},
   "outputs": [
    {
     "name": "stdout",
     "output_type": "stream",
     "text": [
      "Moscow 55.7558 37.6178\n",
      "SaintPetersburg 59.9500 30.3167\n",
      "Novosibirsk 55.0333 82.9167\n",
      "Yekaterinburg 56.8356 60.6128\n",
      "NizhniyNovgorod 56.3269 44.0075\n",
      "Kazan 55.7964 49.1089\n",
      "Chelyabinsk 55.1500 61.4000\n",
      "Omsk 54.9667 73.3833\n",
      "Samara 53.2028 50.1408\n",
      "Rostov 47.2333 39.7000\n",
      "Ufa 54.7261 55.9475\n",
      "Krasnoyarsk 56.0089 92.8719\n",
      "Voronezh 51.6717 39.2106\n",
      "Perm 58.0139 56.2489\n",
      "Volgograd 48.7086 44.5147\n"
     ]
    }
   ],
   "source": [
    "with open('data/russian_cities.txt') as f:\n",
    "    russian_cities = f.read()\n",
    "\n",
    "print(russian_cities) # данные с координатами Российских городов"
   ]
  },
  {
   "cell_type": "markdown",
   "id": "ffee1319-eefb-45b9-bbc0-af9d32ff924b",
   "metadata": {},
   "source": [
    "Она закрывает файл сразу же после окончания отступа.\n",
    "\n",
    "> ☝ Строго говоря, ключевое слово `with` используется и для [других целей](https://stackoverflow.com/questions/3012488/what-is-the-python-with-statement-designed-for), но в абсолютном большинстве случаев его используют именно для открытия/закрытия файлов."
   ]
  },
  {
   "cell_type": "markdown",
   "id": "c78cd821-737e-48e8-9f3f-b79eff1401ae",
   "metadata": {},
   "source": [
    "Теперь посмотрим на разные методы для считывания файлов:\n",
    "- `.read()` считывает файл полностью в виде строки\n",
    "- `.readline()` считывает только одну строку и сохраняет положение курсора: если вызвать еще раз, то считает уже следующую строку\n",
    "- `.readlines()` считывает все строки и записывает в массив: каждый элемент массива — это новая строка "
   ]
  },
  {
   "cell_type": "code",
   "execution_count": 7,
   "id": "e9c87f31-af54-4e6b-a18d-ffc4c176199d",
   "metadata": {},
   "outputs": [
    {
     "name": "stdout",
     "output_type": "stream",
     "text": [
      "['Moscow 55.7558 37.6178\\n', 'SaintPetersburg 59.9500 30.3167\\n', 'Novosibirsk 55.0333 82.9167\\n', 'Yekaterinburg 56.8356 60.6128\\n', 'NizhniyNovgorod 56.3269 44.0075\\n', 'Kazan 55.7964 49.1089\\n', 'Chelyabinsk 55.1500 61.4000\\n', 'Omsk 54.9667 73.3833\\n', 'Samara 53.2028 50.1408\\n', 'Rostov 47.2333 39.7000\\n', 'Ufa 54.7261 55.9475\\n', 'Krasnoyarsk 56.0089 92.8719\\n', 'Voronezh 51.6717 39.2106\\n', 'Perm 58.0139 56.2489\\n', 'Volgograd 48.7086 44.5147']\n"
     ]
    }
   ],
   "source": [
    "with open('data/russian_cities.txt') as f:\n",
    "    russian_cities = f.readlines()\n",
    "\n",
    "print(russian_cities)"
   ]
  },
  {
   "cell_type": "markdown",
   "id": "71d80b27-b0f7-4500-93d1-a5a45a99ff6c",
   "metadata": {},
   "source": [
    "> ☝ Символ `\\n` обозначает начало новой строки, а сам механизм разделения строк может работать немного по-разному на разных системах\n",
    "\n",
    "При желании, мы можем сделать (почти) то же самое с помощью:"
   ]
  },
  {
   "cell_type": "code",
   "execution_count": 8,
   "id": "a986bc32-650d-4c64-bfb3-295d461d706b",
   "metadata": {},
   "outputs": [
    {
     "name": "stdout",
     "output_type": "stream",
     "text": [
      "['Moscow 55.7558 37.6178', 'SaintPetersburg 59.9500 30.3167', 'Novosibirsk 55.0333 82.9167', 'Yekaterinburg 56.8356 60.6128', 'NizhniyNovgorod 56.3269 44.0075', 'Kazan 55.7964 49.1089', 'Chelyabinsk 55.1500 61.4000', 'Omsk 54.9667 73.3833', 'Samara 53.2028 50.1408', 'Rostov 47.2333 39.7000', 'Ufa 54.7261 55.9475', 'Krasnoyarsk 56.0089 92.8719', 'Voronezh 51.6717 39.2106', 'Perm 58.0139 56.2489', 'Volgograd 48.7086 44.5147']\n"
     ]
    }
   ],
   "source": [
    "with open('data/russian_cities.txt', mode='r') as f:\n",
    "    russian_cities = f.read()\n",
    "    russian_cities_lines = russian_cities.split('\\n')\n",
    "\n",
    "print(russian_cities_lines) "
   ]
  },
  {
   "cell_type": "markdown",
   "id": "4e19d869-c8fb-4235-bdcd-5ba17dd0cf32",
   "metadata": {},
   "source": [
    "### Запись в файлы\n",
    "\n",
    "Для того, чтобы записывать строчки в файл, нужно использовать другой режим:"
   ]
  },
  {
   "cell_type": "code",
   "execution_count": 9,
   "id": "4e02a541-4d04-4227-9329-f396df914b15",
   "metadata": {},
   "outputs": [
    {
     "name": "stdout",
     "output_type": "stream",
     "text": [
      "Moscow 55.7558 37.6178\n",
      "SaintPetersburg 59.9500 30.3167\n",
      "Novosibirsk 55.0333 82.9167\n",
      "Yekaterinburg 56.8356 60.6128\n",
      "NizhniyNovgorod 56.3269 44.0075\n",
      "Kazan 55.7964 49.1089\n",
      "Chelyabinsk 55.1500 61.4000\n",
      "Omsk 54.9667 73.3833\n",
      "Samara 53.2028 50.1408\n",
      "Rostov 47.2333 39.7000\n",
      "Ufa 54.7261 55.9475\n",
      "Krasnoyarsk 56.0089 92.8719\n",
      "Voronezh 51.6717 39.2106\n",
      "Perm 58.0139 56.2489\n",
      "Volgograd 48.7086 44.5147"
     ]
    }
   ],
   "source": [
    "with open('data/duplicate_cities.txt', mode='w') as f:\n",
    "    f.write(russian_cities)\n",
    "\n",
    "%cat data/duplicate_cities.txt # лайфхак для вывода (может не работать на Windows)"
   ]
  },
  {
   "cell_type": "markdown",
   "id": "7a7113b1",
   "metadata": {},
   "source": [
    "> ☝️ Можно использовать и другой вариант записания пути до файла. Он называется абсолютным, у меня он выглядит так:\n",
    "> ``` python\n",
    "> with open('/Users/teimy42/py_geohse/Lectures/Lecture4/data/duplicate_cities.txt', mode='w') as f:\n",
    ">    f.writelines(russian_cities_lines)\n",
    "> ```\n",
    "> На `windows` он выглядел бы примерно так:\n",
    "> ``` python\n",
    "> with open('C:/Users/teimy42/py_geohse/Lectures/Lecture4/data/duplicate_cities.txt', mode='w') as f:\n",
    ">    f.writelines(russian_cities_lines)\n",
    "> ```\n",
    "> Подробнее об абсолютных и относительных путях можно прочитать [здесь](https://thecode.media/path/). В абсолютном большинстве случае я рекоммедую работать с относительными путями!"
   ]
  },
  {
   "cell_type": "markdown",
   "id": "0f199ef1-c869-445c-996b-8db4c97f5dfa",
   "metadata": {},
   "source": [
    "В целом, все очень похоже:\n",
    "- `.write()` запишет всю строку в текстовый файл\n",
    "- `.writelines()` запишет список из строк построчно в файл"
   ]
  },
  {
   "cell_type": "markdown",
   "id": "43ec122b",
   "metadata": {},
   "source": [
    "### Функция `input()`\n",
    "\n",
    "Функция `input()` позволяет считать данные прямо с клавиатуры и записать их в переменную. Выполните следующую ячейку, чтобы попробовать:"
   ]
  },
  {
   "cell_type": "code",
   "execution_count": 11,
   "id": "da1588a2",
   "metadata": {
    "scrolled": false
   },
   "outputs": [
    {
     "name": "stdout",
     "output_type": "stream",
     "text": [
      "Мы ввели тест\n"
     ]
    }
   ],
   "source": [
    "inp = input()\n",
    "print(f'Мы ввели {inp}')"
   ]
  },
  {
   "cell_type": "markdown",
   "id": "b308ebc8-8854-45c9-afb8-bd4af41bdc01",
   "metadata": {},
   "source": [
    "# **Вопросы?**"
   ]
  },
  {
   "cell_type": "markdown",
   "id": "566804c6",
   "metadata": {},
   "source": [
    "## **Кортежи**\n",
    "\n",
    "Кортежи (*tuples*) очень похожи на списки, но их нельзя изменять. Например:"
   ]
  },
  {
   "cell_type": "code",
   "execution_count": 15,
   "id": "b2ed45cd",
   "metadata": {},
   "outputs": [
    {
     "ename": "TypeError",
     "evalue": "'tuple' object does not support item assignment",
     "output_type": "error",
     "traceback": [
      "\u001b[0;31m---------------------------------------------------------------------------\u001b[0m",
      "\u001b[0;31mTypeError\u001b[0m                                 Traceback (most recent call last)",
      "Cell \u001b[0;32mIn[15], line 4\u001b[0m\n\u001b[1;32m      1\u001b[0m cities_names \u001b[38;5;241m=\u001b[39m (\u001b[38;5;124m'\u001b[39m\u001b[38;5;124mMoscow\u001b[39m\u001b[38;5;124m'\u001b[39m, \u001b[38;5;124m'\u001b[39m\u001b[38;5;124mSaintPetersburg\u001b[39m\u001b[38;5;124m'\u001b[39m, \u001b[38;5;124m'\u001b[39m\u001b[38;5;124mNovosibirsk\u001b[39m\u001b[38;5;124m'\u001b[39m, \u001b[38;5;124m'\u001b[39m\u001b[38;5;124mYekaterinburg\u001b[39m\u001b[38;5;124m'\u001b[39m,\n\u001b[1;32m      2\u001b[0m                 \u001b[38;5;124m'\u001b[39m\u001b[38;5;124mNizhniyNovgorod\u001b[39m\u001b[38;5;124m'\u001b[39m, \u001b[38;5;124m'\u001b[39m\u001b[38;5;124mKazan\u001b[39m\u001b[38;5;124m'\u001b[39m, \u001b[38;5;124m'\u001b[39m\u001b[38;5;124mChelyabinsk\u001b[39m\u001b[38;5;124m'\u001b[39m, \u001b[38;5;124m'\u001b[39m\u001b[38;5;124mOmsk\u001b[39m\u001b[38;5;124m'\u001b[39m, \u001b[38;5;124m'\u001b[39m\u001b[38;5;124mSamara\u001b[39m\u001b[38;5;124m'\u001b[39m, \u001b[38;5;124m'\u001b[39m\u001b[38;5;124mRostov\u001b[39m\u001b[38;5;124m'\u001b[39m,\n\u001b[1;32m      3\u001b[0m                 \u001b[38;5;124m'\u001b[39m\u001b[38;5;124mUfa\u001b[39m\u001b[38;5;124m'\u001b[39m, \u001b[38;5;124m'\u001b[39m\u001b[38;5;124mKrasnoyarsk\u001b[39m\u001b[38;5;124m'\u001b[39m, \u001b[38;5;124m'\u001b[39m\u001b[38;5;124mVoronezh\u001b[39m\u001b[38;5;124m'\u001b[39m, \u001b[38;5;124m'\u001b[39m\u001b[38;5;124mPerm\u001b[39m\u001b[38;5;124m'\u001b[39m)\n\u001b[0;32m----> 4\u001b[0m cities_names[\u001b[38;5;241m0\u001b[39m] \u001b[38;5;241m=\u001b[39m \u001b[38;5;124m'\u001b[39m\u001b[38;5;124mNot Moscow\u001b[39m\u001b[38;5;124m'\u001b[39m\n",
      "\u001b[0;31mTypeError\u001b[0m: 'tuple' object does not support item assignment"
     ]
    }
   ],
   "source": [
    "cities_names = ('Moscow', 'SaintPetersburg', 'Novosibirsk', 'Yekaterinburg',\n",
    "                'NizhniyNovgorod', 'Kazan', 'Chelyabinsk', 'Omsk', 'Samara', 'Rostov',\n",
    "                'Ufa', 'Krasnoyarsk', 'Voronezh', 'Perm')\n",
    "cities_names[0] = 'Not Moscow'"
   ]
  },
  {
   "cell_type": "markdown",
   "id": "ef6b76aa",
   "metadata": {},
   "source": [
    "<p>\n",
    "<details>\n",
    "<summary> ☝️ ✨✨ <u> С помощью сильного колдунства можно сгенрировать такой список прямо из файла </u> </summary>\n",
    "\n",
    "```python\n",
    "with open('data/russian_cities.txt') as f:\n",
    "    russian_cities = f.read()\n",
    "cities_names = tuple([element.split()[0] for element in russian_cities.split('\\n')][:-1])\n",
    " \n",
    "```\n",
    "\n",
    "</details>\n",
    "</p>"
   ]
  },
  {
   "cell_type": "markdown",
   "id": "8e8aaec1",
   "metadata": {},
   "source": [
    "Зачем нужны *кортежи*, если они (казалось бы) напрямую хуже списков? Потому что они более эффективно используются в вычислениях, и это сделано для оптимизации внутренних процессов. Если у вас нет четкого понимания, что конкретно вы хотите сделать, **никогда не используйте кортежи в вашем коде**. "
   ]
  },
  {
   "cell_type": "markdown",
   "id": "85ed736a",
   "metadata": {},
   "source": [
    "<p>\n",
    "<details>\n",
    "<summary> ☝ ✨✨ <u> Как проверить насколько кортежи быстрее? (+ как проверить скорость выполнения кода!) </u> </summary>\n",
    "\n",
    "Как описано в [этом ответе](https://stackoverflow.com/questions/2174124/why-do-we-need-tuples-in-python-or-any-immutable-data-type), можно проверить замерив скорость выполнения кода с помощью встроенных команд `ipython`. Сделайте две новых ячейки, в одну из них напишите:\n",
    "``` python\n",
    "%timeit [\"fee\", \"fie\", \"fo\", \"fum\"]\n",
    "```\n",
    "А в другую:\n",
    "``` python\n",
    "%timeit (\"fee\", \"fie\", \"fo\", \"fum\")\n",
    "```\n",
    "В зависимости от процессора и системы, результаты будут разными, но можно ожидать следующее:\n",
    "`1000000 loops, best of 3: 0.432 usec per loop` для первого случая, и `10000000 loops, best of 3: 0.0563 usec per loop` для второго.\n",
    "\n",
    "</details>\n",
    "</p>"
   ]
  },
  {
   "cell_type": "markdown",
   "id": "b67c1eb9",
   "metadata": {},
   "source": [
    "## Разбираем задачи\n",
    "\n",
    "### Котик ватру4шка 12вареник?\n",
    "\n",
    "- Считываются строки через пробел до тех пор, пока не введен `0`\n",
    "- Для каждой вводимой строки сделать проверку: если она состоит только из букв и ее длина менее 7 символов, то ее нужно добавить в список\n",
    "- Напечатать получишийся список"
   ]
  },
  {
   "cell_type": "code",
   "execution_count": 20,
   "id": "23778afb",
   "metadata": {},
   "outputs": [],
   "source": [
    "input1 = 'котик ватру4шка 12вареник? 14623 морковка лук вода подушка лупа 0'\n",
    "input2 = '129 морковка1 морковка2 луковка0 редиска12 0'\n",
    "\n",
    "# Ваш код "
   ]
  },
  {
   "cell_type": "markdown",
   "id": "793a9105",
   "metadata": {},
   "source": [
    "### Что-то не так (или так?)"
   ]
  },
  {
   "cell_type": "markdown",
   "id": "690b07bf",
   "metadata": {},
   "source": [
    "- На первой строке вводится слово\n",
    "- Затем вводится последовательность букв\n",
    "- Если слово начинается с введенной последовательности и его длина больше 5 символов, то печатается строка \"подходит\""
   ]
  },
  {
   "cell_type": "code",
   "execution_count": 18,
   "id": "98773608",
   "metadata": {},
   "outputs": [],
   "source": [
    "input1 = 'лисичка'\n",
    "input2 = 'ли1'\n",
    "\n",
    "# Пишем код"
   ]
  }
 ],
 "metadata": {
  "kernelspec": {
   "display_name": "Python 3 (ipykernel)",
   "language": "python",
   "name": "python3"
  },
  "language_info": {
   "codemirror_mode": {
    "name": "ipython",
    "version": 3
   },
   "file_extension": ".py",
   "mimetype": "text/x-python",
   "name": "python",
   "nbconvert_exporter": "python",
   "pygments_lexer": "ipython3",
   "version": "3.11.0"
  }
 },
 "nbformat": 4,
 "nbformat_minor": 5
}
